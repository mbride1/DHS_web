{
 "cells": [
  {
   "cell_type": "markdown",
   "metadata": {},
   "source": [
    "This is my practice during the #USAID_pause\n",
    "Trying to make a user access way to view the DHS data directly through the website instead of going through Stata\n",
    "Step 1: Access the API\n",
    "Step 2: Build out how to get and wrangle data\n",
    "Step 3: Develop the user interface to allow people to make changes on the data\n",
    "Step 4: ???\n"
   ]
  },
  {
   "cell_type": "code",
   "execution_count": 29,
   "metadata": {},
   "outputs": [],
   "source": [
    "import requests\n",
    "import pandas as pd\n",
    "\n",
    "import os\n",
    "import json\n",
    "from urllib.request import urlopen\n",
    "BASE_URL = \"https://api.dhsprogram.com/rest/dhs/data\"  \n",
    "\n",
    "def fetch_dhs_data(country_codes):\n",
    "    # Define the API parameters\n",
    "    params = {\n",
    "        \"country_ids\": \",\".join(country_codes),\n",
    "        \"indicator_ids\": \"ML_ITNA_P_ACC,ML_NETU_P_ITN\",  # Hypothetical indicator IDs\n",
    "    }\n",
    "    \n",
    "    response = requests.get(BASE_URL, params=params)\n",
    "    \n",
    "    if response.status_code == 200:\n",
    "        # Process the response\n",
    "        data = response.json()  # Assuming JSON format from the API\n",
    "        return pd.DataFrame(data)  # Convert to pandas DataFrame\n",
    "    else:\n",
    "        print(\"Error fetching data:\", response.status_code)\n",
    "        return None"
   ]
  },
  {
   "cell_type": "code",
   "execution_count": 30,
   "metadata": {},
   "outputs": [],
   "source": [
    "import shiny\n",
    "import plotly.express as px\n",
    "import requests\n",
    "import pandas as pd\n",
    "\n",
    "\n",
    "# Create the shiny UI\n",
    "app_ui = ui.page_fluid(\n",
    "    ui.input_selectize(\"countries\", \"Select Countries\", choices=[\"Kenya\", \"Nigeria\", \"Ghana\"], multiple=True),\n",
    "    ui.output_plot(\"chart\"),\n",
    ")\n",
    "\n",
    "# Define the server function\n",
    "def server(input, output, session):\n",
    "\n",
    "    @output()\n",
    "    @render.plot\n",
    "    def chart():\n",
    "        selected_countries = input.countries()\n",
    "        \n",
    "        # Fetch the data for the selected countries\n",
    "        data = fetch_dhs_data(selected_countries)\n",
    "        \n",
    "        if data is not None:\n",
    "            # Plot the data\n",
    "            fig = px.line(data, x=\"SurveyYear\", y=[\"ML_ITNA_P_ACC,ML_NETU_P_ITN\"], \n",
    "                          title=\"ITN Indicators Over Time\")\n",
    "            return fig\n",
    "        else:\n",
    "            return None\n",
    "\n",
    "# Create the Shiny app\n",
    "app = shiny.App(app_ui, server)\n",
    "\n"
   ]
  },
  {
   "cell_type": "code",
   "execution_count": null,
   "metadata": {},
   "outputs": [
    {
     "ename": "AttributeError",
     "evalue": "module 'shiny' has no attribute 'jupyter'",
     "output_type": "error",
     "traceback": [
      "\u001b[1;31m---------------------------------------------------------------------------\u001b[0m",
      "\u001b[1;31mAttributeError\u001b[0m                            Traceback (most recent call last)",
      "Cell \u001b[1;32mIn[31], line 1\u001b[0m\n\u001b[1;32m----> 1\u001b[0m \u001b[43mshiny\u001b[49m\u001b[38;5;241;43m.\u001b[39;49m\u001b[43mjupyter\u001b[49m\u001b[38;5;241m.\u001b[39mrun_app(app)\n",
      "\u001b[1;31mAttributeError\u001b[0m: module 'shiny' has no attribute 'jupyter'"
     ]
    },
    {
     "ename": "",
     "evalue": "",
     "output_type": "error",
     "traceback": [
      "\u001b[1;31mThe Kernel crashed while executing code in the current cell or a previous cell. \n",
      "\u001b[1;31mPlease review the code in the cell(s) to identify a possible cause of the failure. \n",
      "\u001b[1;31mClick <a href='https://aka.ms/vscodeJupyterKernelCrash'>here</a> for more info. \n",
      "\u001b[1;31mView Jupyter <a href='command:jupyter.viewOutput'>log</a> for further details."
     ]
    }
   ],
   "source": []
  },
  {
   "cell_type": "code",
   "execution_count": null,
   "metadata": {},
   "outputs": [],
   "source": []
  }
 ],
 "metadata": {
  "kernelspec": {
   "display_name": "Python 3",
   "language": "python",
   "name": "python3"
  },
  "language_info": {
   "codemirror_mode": {
    "name": "ipython",
    "version": 3
   },
   "file_extension": ".py",
   "mimetype": "text/x-python",
   "name": "python",
   "nbconvert_exporter": "python",
   "pygments_lexer": "ipython3",
   "version": "3.11.9"
  }
 },
 "nbformat": 4,
 "nbformat_minor": 2
}
